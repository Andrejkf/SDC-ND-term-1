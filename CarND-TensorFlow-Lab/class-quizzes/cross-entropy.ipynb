{
 "cells": [
  {
   "cell_type": "code",
   "execution_count": 1,
   "metadata": {
    "collapsed": true
   },
   "outputs": [],
   "source": [
    "# Solution is available in the other \"solution.py\" tab\n",
    "import tensorflow as tf"
   ]
  },
  {
   "cell_type": "code",
   "execution_count": 11,
   "metadata": {
    "collapsed": false
   },
   "outputs": [],
   "source": [
    "# cross entropy D(S, L) = - summation(Li Log(Si))\n",
    "\n",
    "def run():\n",
    "    softmax_data = [0.7, 0.2, 0.1]\n",
    "    one_hot_encod_label = [1.0, 0.0, 0.0]\n",
    "    \n",
    "    softmax = tf.placeholder(tf.float32)\n",
    "    one_hot_encod = tf.placeholder(tf.float32)\n",
    "    \n",
    "    # ToDo: Calculate cross entropy\n",
    "    cross_entropy = tf.mul(-1.0, tf.reduce_sum( tf.mul(one_hot_encod, tf.log(softmax))))\n",
    "    \n",
    "    # solution: -tf.reduce_sum(one_hot_encod * tf.log(softmax))\n",
    "    \n",
    "    with tf.Session() as sess:\n",
    "        # ToDo: Feed softmax and one_hot_encod data\n",
    "        output = sess.run(cross_entropy, feed_dict={softmax: softmax_data, one_hot_encod: one_hot_encod_label})\n",
    "    \n",
    "    return output\n"
   ]
  },
  {
   "cell_type": "code",
   "execution_count": 12,
   "metadata": {
    "collapsed": false
   },
   "outputs": [
    {
     "data": {
      "text/plain": [
       "0.35667497"
      ]
     },
     "execution_count": 12,
     "metadata": {},
     "output_type": "execute_result"
    }
   ],
   "source": [
    "run()"
   ]
  },
  {
   "cell_type": "code",
   "execution_count": null,
   "metadata": {
    "collapsed": true
   },
   "outputs": [],
   "source": []
  },
  {
   "cell_type": "code",
   "execution_count": null,
   "metadata": {
    "collapsed": true
   },
   "outputs": [],
   "source": []
  }
 ],
 "metadata": {
  "kernelspec": {
   "display_name": "Python 3",
   "language": "python",
   "name": "python3"
  },
  "language_info": {
   "codemirror_mode": {
    "name": "ipython",
    "version": 3
   },
   "file_extension": ".py",
   "mimetype": "text/x-python",
   "name": "python",
   "nbconvert_exporter": "python",
   "pygments_lexer": "ipython3",
   "version": "3.5.2"
  }
 },
 "nbformat": 4,
 "nbformat_minor": 1
}
