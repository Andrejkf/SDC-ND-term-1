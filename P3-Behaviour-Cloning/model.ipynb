{
 "cells": [
  {
   "cell_type": "code",
   "execution_count": 2,
   "metadata": {
    "collapsed": false
   },
   "outputs": [
    {
     "name": "stderr",
     "output_type": "stream",
     "text": [
      "Using TensorFlow backend.\n"
     ]
    }
   ],
   "source": [
    "import cv2\n",
    "import glob\n",
    "from keras.models import Sequential\n",
    "from keras.layers import Dense, Dropout, Flatten, Lambda, ELU, Activation\n",
    "from keras.layers.convolutional import Convolution2D\n",
    "import matplotlib.image as mpimg\n",
    "import matplotlib.pyplot as plt\n",
    "import numpy as np\n",
    "import os\n",
    "import pandas as pd\n",
    "\n",
    "\n",
    "%matplotlib inline"
   ]
  },
  {
   "cell_type": "code",
   "execution_count": 3,
   "metadata": {
    "collapsed": false
   },
   "outputs": [],
   "source": [
    "SIMULATOR_HOME = \"/Users/ddigges/simulator/data/\"\n",
    "DRIVING_LOG_FILE = \"driving_log.csv\"\n",
    "DRIVING_LOG_FILE_PATH = os.path.join(SIMULATOR_HOME, DRIVING_LOG_FILE)\n",
    "\n",
    "IMG = \"IMG\"\n",
    "IMAGE_PATH = os.path.join(os.path.join(SIMULATOR_HOME, IMG))\n",
    "\n",
    "n = len(glob.glob(os.path.join(IMAGE_PATH, \"*\")))\n",
    "batch_size = 128\n",
    "samples_per_epoch = int(n/batch_size)\n",
    "nb_epoch = 10"
   ]
  },
  {
   "cell_type": "code",
   "execution_count": 10,
   "metadata": {
    "collapsed": false
   },
   "outputs": [],
   "source": [
    "driving_log = pd.read_csv(DRIVING_LOG_FILE_PATH)"
   ]
  },
  {
   "cell_type": "code",
   "execution_count": 11,
   "metadata": {
    "collapsed": false
   },
   "outputs": [
    {
     "data": {
      "text/html": [
       "<div>\n",
       "<table border=\"1\" class=\"dataframe\">\n",
       "  <thead>\n",
       "    <tr style=\"text-align: right;\">\n",
       "      <th></th>\n",
       "      <th>center</th>\n",
       "      <th>left</th>\n",
       "      <th>right</th>\n",
       "      <th>steering</th>\n",
       "      <th>throttle</th>\n",
       "      <th>brake</th>\n",
       "      <th>speed</th>\n",
       "    </tr>\n",
       "  </thead>\n",
       "  <tbody>\n",
       "    <tr>\n",
       "      <th>0</th>\n",
       "      <td>IMG/center_2016_12_01_13_30_48_287.jpg</td>\n",
       "      <td>IMG/left_2016_12_01_13_30_48_287.jpg</td>\n",
       "      <td>IMG/right_2016_12_01_13_30_48_287.jpg</td>\n",
       "      <td>0.0</td>\n",
       "      <td>0.0</td>\n",
       "      <td>0.0</td>\n",
       "      <td>22.148290</td>\n",
       "    </tr>\n",
       "    <tr>\n",
       "      <th>1</th>\n",
       "      <td>IMG/center_2016_12_01_13_30_48_404.jpg</td>\n",
       "      <td>IMG/left_2016_12_01_13_30_48_404.jpg</td>\n",
       "      <td>IMG/right_2016_12_01_13_30_48_404.jpg</td>\n",
       "      <td>0.0</td>\n",
       "      <td>0.0</td>\n",
       "      <td>0.0</td>\n",
       "      <td>21.879630</td>\n",
       "    </tr>\n",
       "    <tr>\n",
       "      <th>2</th>\n",
       "      <td>IMG/center_2016_12_01_13_31_12_937.jpg</td>\n",
       "      <td>IMG/left_2016_12_01_13_31_12_937.jpg</td>\n",
       "      <td>IMG/right_2016_12_01_13_31_12_937.jpg</td>\n",
       "      <td>0.0</td>\n",
       "      <td>0.0</td>\n",
       "      <td>0.0</td>\n",
       "      <td>1.453011</td>\n",
       "    </tr>\n",
       "    <tr>\n",
       "      <th>3</th>\n",
       "      <td>IMG/center_2016_12_01_13_31_13_037.jpg</td>\n",
       "      <td>IMG/left_2016_12_01_13_31_13_037.jpg</td>\n",
       "      <td>IMG/right_2016_12_01_13_31_13_037.jpg</td>\n",
       "      <td>0.0</td>\n",
       "      <td>0.0</td>\n",
       "      <td>0.0</td>\n",
       "      <td>1.438419</td>\n",
       "    </tr>\n",
       "    <tr>\n",
       "      <th>4</th>\n",
       "      <td>IMG/center_2016_12_01_13_31_13_177.jpg</td>\n",
       "      <td>IMG/left_2016_12_01_13_31_13_177.jpg</td>\n",
       "      <td>IMG/right_2016_12_01_13_31_13_177.jpg</td>\n",
       "      <td>0.0</td>\n",
       "      <td>0.0</td>\n",
       "      <td>0.0</td>\n",
       "      <td>1.418236</td>\n",
       "    </tr>\n",
       "  </tbody>\n",
       "</table>\n",
       "</div>"
      ],
      "text/plain": [
       "                                   center  \\\n",
       "0  IMG/center_2016_12_01_13_30_48_287.jpg   \n",
       "1  IMG/center_2016_12_01_13_30_48_404.jpg   \n",
       "2  IMG/center_2016_12_01_13_31_12_937.jpg   \n",
       "3  IMG/center_2016_12_01_13_31_13_037.jpg   \n",
       "4  IMG/center_2016_12_01_13_31_13_177.jpg   \n",
       "\n",
       "                                    left  \\\n",
       "0   IMG/left_2016_12_01_13_30_48_287.jpg   \n",
       "1   IMG/left_2016_12_01_13_30_48_404.jpg   \n",
       "2   IMG/left_2016_12_01_13_31_12_937.jpg   \n",
       "3   IMG/left_2016_12_01_13_31_13_037.jpg   \n",
       "4   IMG/left_2016_12_01_13_31_13_177.jpg   \n",
       "\n",
       "                                    right  steering  throttle  brake  \\\n",
       "0   IMG/right_2016_12_01_13_30_48_287.jpg       0.0       0.0    0.0   \n",
       "1   IMG/right_2016_12_01_13_30_48_404.jpg       0.0       0.0    0.0   \n",
       "2   IMG/right_2016_12_01_13_31_12_937.jpg       0.0       0.0    0.0   \n",
       "3   IMG/right_2016_12_01_13_31_13_037.jpg       0.0       0.0    0.0   \n",
       "4   IMG/right_2016_12_01_13_31_13_177.jpg       0.0       0.0    0.0   \n",
       "\n",
       "       speed  \n",
       "0  22.148290  \n",
       "1  21.879630  \n",
       "2   1.453011  \n",
       "3   1.438419  \n",
       "4   1.418236  "
      ]
     },
     "execution_count": 11,
     "metadata": {},
     "output_type": "execute_result"
    }
   ],
   "source": [
    "driving_log.head()"
   ]
  },
  {
   "cell_type": "code",
   "execution_count": 12,
   "metadata": {
    "collapsed": false
   },
   "outputs": [
    {
     "data": {
      "image/png": "[encoded data removed]",
      "text/plain": [
       "<matplotlib.figure.Figure at 0x10687ae10>"
      ]
     },
     "metadata": {},
     "output_type": "display_data"
    }
   ],
   "source": [
    "driving_log.steering.plot.hist();"
   ]
  },
  {
   "cell_type": "code",
   "execution_count": 13,
   "metadata": {
    "collapsed": true
   },
   "outputs": [],
   "source": [
    "def read_image(file_name):\n",
    "    return plt.imread(file_name)"
   ]
  },
  {
   "cell_type": "code",
   "execution_count": 17,
   "metadata": {
    "collapsed": false
   },
   "outputs": [],
   "source": [
    "val = driving_log[:1]['center']"
   ]
  },
  {
   "cell_type": "code",
   "execution_count": 19,
   "metadata": {
    "collapsed": false
   },
   "outputs": [],
   "source": [
    "image = read_image(os.path.join(SIMULATOR_HOME, val.values[0]))"
   ]
  },
  {
   "cell_type": "code",
   "execution_count": 20,
   "metadata": {
    "collapsed": false
   },
   "outputs": [
    {
     "data": {
      "text/plain": [
       "(160, 320, 3)"
      ]
     },
     "execution_count": 20,
     "metadata": {},
     "output_type": "execute_result"
    }
   ],
   "source": [
    "# IMAGE: 160 x 320 with 3 color channels\n",
    "image.shape"
   ]
  },
  {
   "cell_type": "code",
   "execution_count": 21,
   "metadata": {
    "collapsed": true
   },
   "outputs": [],
   "source": [
    "def pre_process(image):\n",
    "    \"\"\"\n",
    "        image: input image\n",
    "        \n",
    "        - convert to grayscale\n",
    "        - resize image to half it's original size\n",
    "    \"\"\"\n",
    "    image = np.mean(image, axis=2)\n",
    "    data_min = np.min(image)\n",
    "    data_max = np.max(image)\n",
    "    b = 0.5\n",
    "    a = -0.5\n",
    "    \n",
    "    image = ((b-a) * (image - data_min)/(data_max - data_min)) + a\n",
    "    return cv2.resize(image, (0,0), fx=0.5, fy=0.5) \n",
    "\n",
    "def flatten(image):\n",
    "    return image.reshape((image.shape[0], image.shape[1], 1))"
   ]
  },
  {
   "cell_type": "code",
   "execution_count": 23,
   "metadata": {
    "collapsed": false
   },
   "outputs": [
    {
     "name": "stdout",
     "output_type": "stream",
     "text": [
      "IMG/center_2016_12_01_13_30_48_287.jpg 0.0\n",
      "IMG/center_2016_12_01_13_30_48_404.jpg 0.0\n",
      "IMG/center_2016_12_01_13_31_12_937.jpg 0.0\n"
     ]
    }
   ],
   "source": [
    "for i, row in driving_log[:3].iterrows():\n",
    "    print(row['center'], row['steering'])"
   ]
  },
  {
   "cell_type": "code",
   "execution_count": 24,
   "metadata": {
    "collapsed": false
   },
   "outputs": [],
   "source": [
    "# shuffle\n",
    "driving_log = driving_log.sample(frac=1).reset_index(drop=True)"
   ]
  },
  {
   "cell_type": "code",
   "execution_count": 25,
   "metadata": {
    "collapsed": false
   },
   "outputs": [
    {
     "data": {
      "text/plain": [
       "(8036, 7)"
      ]
     },
     "execution_count": 25,
     "metadata": {},
     "output_type": "execute_result"
    }
   ],
   "source": [
    "driving_log.shape"
   ]
  },
  {
   "cell_type": "code",
   "execution_count": 36,
   "metadata": {
    "collapsed": false
   },
   "outputs": [],
   "source": [
    "def data_generator(df, batch_size=128):\n",
    "    n_rows = df.shape[0]\n",
    "    while True:\n",
    "        # Shuffle the data frame rpws after every complete cycle through the data\n",
    "        df.sample(frac=1).reset_index(drop=True)\n",
    "        for index in range(0, n_rows, batch_size):\n",
    "            df_batch = df[index: index + batch_size]\n",
    "\n",
    "            # Ignoring the last batch which is smaller than the requested batch size\n",
    "            if(df_batch.shape[0] == batch_size):\n",
    "\n",
    "                X_batch = np.array([flatten(pre_process(mpimg.imread(os.path.join(SIMULATOR_HOME, row['center'])))) for i, row in df_batch.iterrows()])\n",
    "                y_batch = np.array([row['steering'] for i, row in df_batch.iterrows()])\n",
    "\n",
    "                yield X_batch, y_batch\n"
   ]
  },
  {
   "cell_type": "code",
   "execution_count": 37,
   "metadata": {
    "collapsed": false
   },
   "outputs": [],
   "source": [
    "gen = data_generator(driving_log)"
   ]
  },
  {
   "cell_type": "code",
   "execution_count": 38,
   "metadata": {
    "collapsed": false
   },
   "outputs": [],
   "source": [
    "X_batch, y_batch = next(gen)"
   ]
  },
  {
   "cell_type": "code",
   "execution_count": 40,
   "metadata": {
    "collapsed": false
   },
   "outputs": [
    {
     "data": {
      "text/plain": [
       "(128, 80, 160, 1)"
      ]
     },
     "execution_count": 40,
     "metadata": {},
     "output_type": "execute_result"
    }
   ],
   "source": [
    "X_batch.shape"
   ]
  },
  {
   "cell_type": "code",
   "execution_count": 41,
   "metadata": {
    "collapsed": false
   },
   "outputs": [
    {
     "data": {
      "text/plain": [
       "(128,)"
      ]
     },
     "execution_count": 41,
     "metadata": {},
     "output_type": "execute_result"
    }
   ],
   "source": [
    "y_batch.shape"
   ]
  },
  {
   "cell_type": "code",
   "execution_count": 42,
   "metadata": {
    "collapsed": false
   },
   "outputs": [
    {
     "data": {
      "text/plain": [
       "(array([  1.,   0.,   1.,  11.,  11.,  82.,   8.,  10.,   3.,   1.]),\n",
       " array([-0.5249807 , -0.42803251, -0.33108432, -0.23413613, -0.13718794,\n",
       "        -0.04023975,  0.05670844,  0.15365663,  0.25060482,  0.34755301,\n",
       "         0.4445012 ]),\n",
       " <a list of 10 Patch objects>)"
      ]
     },
     "execution_count": 42,
     "metadata": {},
     "output_type": "execute_result"
    },
    {
     "data": {
      "image/png": "[encoded data removed]",
      "text/plain": [
       "<matplotlib.figure.Figure at 0x11ae3f898>"
      ]
     },
     "metadata": {},
     "output_type": "display_data"
    }
   ],
   "source": [
    "plt.hist(y_batch)"
   ]
  },
  {
   "cell_type": "code",
   "execution_count": 43,
   "metadata": {
    "collapsed": false
   },
   "outputs": [
    {
     "name": "stdout",
     "output_type": "stream",
     "text": [
      "80 160 1\n"
     ]
    }
   ],
   "source": [
    "gen = data_generator(driving_log)\n",
    "\n",
    "x,y = next(gen)\n",
    "x.shape\n",
    "\n",
    "gen = data_generator(driving_log)\n",
    "print(x.shape[1], x.shape[2], 1)"
   ]
  },
  {
   "cell_type": "code",
   "execution_count": 44,
   "metadata": {
    "collapsed": false
   },
   "outputs": [],
   "source": [
    "model = Sequential()\n",
    "\n",
    "model.add(Convolution2D(16, 8, 8, subsample=(4, 4), border_mode=\"same\", input_shape=(x.shape[1], x.shape[2], 1)))\n",
    "model.add(ELU())\n",
    "model.add(Convolution2D(32, 5, 5, subsample=(2, 2), border_mode=\"same\"))\n",
    "model.add(ELU())\n",
    "model.add(Convolution2D(64, 5, 5, subsample=(2, 2), border_mode=\"same\"))\n",
    "model.add(Flatten())\n",
    "model.add(Dropout(.2))\n",
    "model.add(ELU())\n",
    "model.add(Dense(512))\n",
    "model.add(Dropout(.5))\n",
    "model.add(ELU())\n",
    "model.add(Dense(1))\n",
    "\n",
    "model.compile(optimizer=\"adam\", loss=\"mse\", metrics=[\"accuracy\"])\n"
   ]
  },
  {
   "cell_type": "code",
   "execution_count": 48,
   "metadata": {
    "collapsed": false
   },
   "outputs": [
    {
     "name": "stdout",
     "output_type": "stream",
     "text": [
      "Epoch 1/30\n",
      "24064/24064 [==============================] - 207s - loss: 0.0045 - acc: 0.5434   \n",
      "Epoch 2/30\n",
      "24064/24064 [==============================] - 192s - loss: 0.0043 - acc: 0.5430   \n",
      "Epoch 3/30\n",
      "24064/24064 [==============================] - 199s - loss: 0.0044 - acc: 0.5435   \n",
      "Epoch 4/30\n",
      "24064/24064 [==============================] - 179s - loss: 0.0044 - acc: 0.5437   \n",
      "Epoch 5/30\n",
      "24064/24064 [==============================] - 181s - loss: 0.0043 - acc: 0.5434   \n",
      "Epoch 6/30\n",
      "24064/24064 [==============================] - 178s - loss: 0.0041 - acc: 0.5436   \n",
      "Epoch 7/30\n",
      "24064/24064 [==============================] - 175s - loss: 0.0039 - acc: 0.5436   \n",
      "Epoch 8/30\n",
      "24064/24064 [==============================] - 175s - loss: 0.0036 - acc: 0.5441   \n",
      "Epoch 9/30\n",
      "24064/24064 [==============================] - 176s - loss: 0.0033 - acc: 0.5441   \n",
      "Epoch 10/30\n",
      "24064/24064 [==============================] - 176s - loss: 0.0035 - acc: 0.5440   \n",
      "Epoch 11/30\n",
      "24064/24064 [==============================] - 181s - loss: 0.0035 - acc: 0.5434   \n",
      "Epoch 12/30\n",
      "24064/24064 [==============================] - 177s - loss: 0.0033 - acc: 0.5433   \n",
      "Epoch 13/30\n",
      "24064/24064 [==============================] - 177s - loss: 0.0032 - acc: 0.5437   \n",
      "Epoch 14/30\n",
      "24064/24064 [==============================] - 176s - loss: 0.0032 - acc: 0.5431   \n",
      "Epoch 15/30\n",
      "24064/24064 [==============================] - 172s - loss: 0.0031 - acc: 0.5434   \n",
      "Epoch 16/30\n",
      "24064/24064 [==============================] - 171s - loss: 0.0036 - acc: 0.5442   \n",
      "Epoch 17/30\n",
      "24064/24064 [==============================] - 171s - loss: 0.0037 - acc: 0.5437   \n",
      "Epoch 18/30\n",
      "24064/24064 [==============================] - 171s - loss: 0.0032 - acc: 0.5432   \n",
      "Epoch 19/30\n",
      "24064/24064 [==============================] - 171s - loss: 0.0037 - acc: 0.5436   \n",
      "Epoch 20/30\n",
      "24064/24064 [==============================] - 170s - loss: 0.0032 - acc: 0.5437   \n",
      "Epoch 21/30\n",
      "24064/24064 [==============================] - 198s - loss: 0.0028 - acc: 0.5436   \n",
      "Epoch 22/30\n",
      "24064/24064 [==============================] - 177s - loss: 0.0028 - acc: 0.5433   \n",
      "Epoch 23/30\n",
      "24064/24064 [==============================] - 174s - loss: 0.0028 - acc: 0.5438   \n",
      "Epoch 24/30\n",
      "24064/24064 [==============================] - 173s - loss: 0.0028 - acc: 0.5438   \n",
      "Epoch 25/30\n",
      "24064/24064 [==============================] - 177s - loss: 0.0029 - acc: 0.5436   \n",
      "Epoch 26/30\n",
      "24064/24064 [==============================] - 176s - loss: 0.0028 - acc: 0.5438   \n",
      "Epoch 27/30\n",
      "24064/24064 [==============================] - 167s - loss: 0.0030 - acc: 0.5435   \n",
      "Epoch 28/30\n",
      "24064/24064 [==============================] - 112s - loss: 0.0038 - acc: 0.5436   \n",
      "Epoch 29/30\n",
      "24064/24064 [==============================] - 110s - loss: 0.0037 - acc: 0.5436   \n",
      "Epoch 30/30\n",
      "24064/24064 [==============================] - 109s - loss: 0.0033 - acc: 0.5436   \n"
     ]
    },
    {
     "data": {
      "text/plain": [
       "<keras.callbacks.History at 0x11a747240>"
      ]
     },
     "execution_count": 48,
     "metadata": {},
     "output_type": "execute_result"
    }
   ],
   "source": [
    "model.fit_generator(gen, samples_per_epoch*batch_size, nb_epoch=30)"
   ]
  },
  {
   "cell_type": "code",
   "execution_count": 49,
   "metadata": {
    "collapsed": false
   },
   "outputs": [],
   "source": [
    "model.save_weights(\"model.h5\")"
   ]
  },
  {
   "cell_type": "code",
   "execution_count": 50,
   "metadata": {
    "collapsed": false
   },
   "outputs": [],
   "source": [
    "file = open(\"model.json\", \"w\")\n",
    "file.write(model.to_json())\n",
    "file.close()"
   ]
  },
  {
   "cell_type": "code",
   "execution_count": null,
   "metadata": {
    "collapsed": true
   },
   "outputs": [],
   "source": []
  }
 ],
 "metadata": {
  "anaconda-cloud": {},
  "kernelspec": {
   "display_name": "Python [conda root]",
   "language": "python",
   "name": "conda-root-py"
  },
  "language_info": {
   "codemirror_mode": {
    "name": "ipython",
    "version": 3
   },
   "file_extension": ".py",
   "mimetype": "text/x-python",
   "name": "python",
   "nbconvert_exporter": "python",
   "pygments_lexer": "ipython3",
   "version": "3.5.2"
  }
 },
 "nbformat": 4,
 "nbformat_minor": 1
}
