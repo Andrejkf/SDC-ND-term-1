{
 "cells": [
  {
   "cell_type": "code",
   "execution_count": 180,
   "metadata": {
    "collapsed": true
   },
   "outputs": [],
   "source": [
    "import cv2\n",
    "import glob\n",
    "from keras.models import Sequential\n",
    "from keras.layers import Dense, Activation\n",
    "import matplotlib.image as mpimg\n",
    "import matplotlib.pyplot as plt\n",
    "import numpy as np\n",
    "import os\n",
    "import pandas as pd\n",
    "\n",
    "\n",
    "%matplotlib inline"
   ]
  },
  {
   "cell_type": "code",
   "execution_count": 221,
   "metadata": {
    "collapsed": false
   },
   "outputs": [],
   "source": [
    "SIMULATOR_HOME = \"/Users/ddigges/simulator/\"\n",
    "DRIVING_LOG_FILE = \"driving_log.csv\"\n",
    "DRIVING_LOG_FILE_PATH = os.path.join(SIMULATOR_HOME, DRIVING_LOG_FILE)\n",
    "\n",
    "IMG = \"IMG\"\n",
    "IMAGE_PATH = os.path.join(os.path.join(SIMULATOR_HOME, IMG))\n",
    "\n",
    "n = len(glob.glob(os.path.join(IMAGE_PATH, \"*\")))\n",
    "batch_size = 128\n",
    "samples_per_epoch = int(n/batch_size)\n",
    "nb_epoch = 10"
   ]
  },
  {
   "cell_type": "code",
   "execution_count": 182,
   "metadata": {
    "collapsed": false
   },
   "outputs": [],
   "source": [
    "driving_log = pd.read_csv(, header=None)"
   ]
  },
  {
   "cell_type": "code",
   "execution_count": 183,
   "metadata": {
    "collapsed": false
   },
   "outputs": [
    {
     "data": {
      "text/html": [
       "<div>\n",
       "<table border=\"1\" class=\"dataframe\">\n",
       "  <thead>\n",
       "    <tr style=\"text-align: right;\">\n",
       "      <th></th>\n",
       "      <th>0</th>\n",
       "      <th>1</th>\n",
       "      <th>2</th>\n",
       "      <th>3</th>\n",
       "      <th>4</th>\n",
       "      <th>5</th>\n",
       "      <th>6</th>\n",
       "    </tr>\n",
       "  </thead>\n",
       "  <tbody>\n",
       "    <tr>\n",
       "      <th>0</th>\n",
       "      <td>/Users/ddigges/simulator/IMG/center_2016_12_16...</td>\n",
       "      <td>/Users/ddigges/simulator/IMG/left_2016_12_16_...</td>\n",
       "      <td>/Users/ddigges/simulator/IMG/right_2016_12_16...</td>\n",
       "      <td>0.0</td>\n",
       "      <td>0.0</td>\n",
       "      <td>0</td>\n",
       "      <td>0.000079</td>\n",
       "    </tr>\n",
       "    <tr>\n",
       "      <th>1</th>\n",
       "      <td>/Users/ddigges/simulator/IMG/center_2016_12_16...</td>\n",
       "      <td>/Users/ddigges/simulator/IMG/left_2016_12_16_...</td>\n",
       "      <td>/Users/ddigges/simulator/IMG/right_2016_12_16...</td>\n",
       "      <td>0.0</td>\n",
       "      <td>0.0</td>\n",
       "      <td>0</td>\n",
       "      <td>0.000082</td>\n",
       "    </tr>\n",
       "    <tr>\n",
       "      <th>2</th>\n",
       "      <td>/Users/ddigges/simulator/IMG/center_2016_12_16...</td>\n",
       "      <td>/Users/ddigges/simulator/IMG/left_2016_12_16_...</td>\n",
       "      <td>/Users/ddigges/simulator/IMG/right_2016_12_16...</td>\n",
       "      <td>0.0</td>\n",
       "      <td>0.0</td>\n",
       "      <td>0</td>\n",
       "      <td>0.000078</td>\n",
       "    </tr>\n",
       "    <tr>\n",
       "      <th>3</th>\n",
       "      <td>/Users/ddigges/simulator/IMG/center_2016_12_16...</td>\n",
       "      <td>/Users/ddigges/simulator/IMG/left_2016_12_16_...</td>\n",
       "      <td>/Users/ddigges/simulator/IMG/right_2016_12_16...</td>\n",
       "      <td>0.0</td>\n",
       "      <td>0.0</td>\n",
       "      <td>0</td>\n",
       "      <td>0.000082</td>\n",
       "    </tr>\n",
       "    <tr>\n",
       "      <th>4</th>\n",
       "      <td>/Users/ddigges/simulator/IMG/center_2016_12_16...</td>\n",
       "      <td>/Users/ddigges/simulator/IMG/left_2016_12_16_...</td>\n",
       "      <td>/Users/ddigges/simulator/IMG/right_2016_12_16...</td>\n",
       "      <td>0.0</td>\n",
       "      <td>0.0</td>\n",
       "      <td>0</td>\n",
       "      <td>0.000081</td>\n",
       "    </tr>\n",
       "  </tbody>\n",
       "</table>\n",
       "</div>"
      ],
      "text/plain": [
       "                                                   0  \\\n",
       "0  /Users/ddigges/simulator/IMG/center_2016_12_16...   \n",
       "1  /Users/ddigges/simulator/IMG/center_2016_12_16...   \n",
       "2  /Users/ddigges/simulator/IMG/center_2016_12_16...   \n",
       "3  /Users/ddigges/simulator/IMG/center_2016_12_16...   \n",
       "4  /Users/ddigges/simulator/IMG/center_2016_12_16...   \n",
       "\n",
       "                                                   1  \\\n",
       "0   /Users/ddigges/simulator/IMG/left_2016_12_16_...   \n",
       "1   /Users/ddigges/simulator/IMG/left_2016_12_16_...   \n",
       "2   /Users/ddigges/simulator/IMG/left_2016_12_16_...   \n",
       "3   /Users/ddigges/simulator/IMG/left_2016_12_16_...   \n",
       "4   /Users/ddigges/simulator/IMG/left_2016_12_16_...   \n",
       "\n",
       "                                                   2    3    4  5         6  \n",
       "0   /Users/ddigges/simulator/IMG/right_2016_12_16...  0.0  0.0  0  0.000079  \n",
       "1   /Users/ddigges/simulator/IMG/right_2016_12_16...  0.0  0.0  0  0.000082  \n",
       "2   /Users/ddigges/simulator/IMG/right_2016_12_16...  0.0  0.0  0  0.000078  \n",
       "3   /Users/ddigges/simulator/IMG/right_2016_12_16...  0.0  0.0  0  0.000082  \n",
       "4   /Users/ddigges/simulator/IMG/right_2016_12_16...  0.0  0.0  0  0.000081  "
      ]
     },
     "execution_count": 183,
     "metadata": {},
     "output_type": "execute_result"
    }
   ],
   "source": [
    "driving_log.head()"
   ]
  },
  {
   "cell_type": "code",
   "execution_count": 184,
   "metadata": {
    "collapsed": false
   },
   "outputs": [],
   "source": [
    "driving_log.columns = [\"center_image\", \"left_image\", \"right_image\", \"steering_angle\", \"throttle\", \"break\", \"speed\"]"
   ]
  },
  {
   "cell_type": "code",
   "execution_count": 185,
   "metadata": {
    "collapsed": false
   },
   "outputs": [
    {
     "data": {
      "text/plain": [
       "<matplotlib.axes._subplots.AxesSubplot at 0x1382191d0>"
      ]
     },
     "execution_count": 185,
     "metadata": {},
     "output_type": "execute_result"
    },
    {
     "data": {
      "image/png": "[encoded data removed]",
      "text/plain": [
       "<matplotlib.figure.Figure at 0x113e24b70>"
      ]
     },
     "metadata": {},
     "output_type": "display_data"
    }
   ],
   "source": [
    "driving_log.steering_angle.plot.hist()"
   ]
  },
  {
   "cell_type": "code",
   "execution_count": 186,
   "metadata": {
    "collapsed": true
   },
   "outputs": [],
   "source": [
    "def read_image(file_name):\n",
    "    return plt.imread(file_name)"
   ]
  },
  {
   "cell_type": "code",
   "execution_count": 187,
   "metadata": {
    "collapsed": false
   },
   "outputs": [],
   "source": [
    "val = driving_log[:1]['center_image']"
   ]
  },
  {
   "cell_type": "code",
   "execution_count": 188,
   "metadata": {
    "collapsed": false
   },
   "outputs": [],
   "source": [
    "image = read_image(val.values[0])"
   ]
  },
  {
   "cell_type": "code",
   "execution_count": 189,
   "metadata": {
    "collapsed": false
   },
   "outputs": [
    {
     "data": {
      "text/plain": [
       "(160, 320, 3)"
      ]
     },
     "execution_count": 189,
     "metadata": {},
     "output_type": "execute_result"
    }
   ],
   "source": [
    "# IMAGE: 160 x 320 with 3 color channels\n",
    "image.shape"
   ]
  },
  {
   "cell_type": "code",
   "execution_count": 190,
   "metadata": {
    "collapsed": true
   },
   "outputs": [],
   "source": [
    "def pre_process(image):\n",
    "    \"\"\"\n",
    "        image: input image\n",
    "        \n",
    "        - convert to grayscale\n",
    "        - resize image to half it's original size\n",
    "    \"\"\"\n",
    "    image = np.mean(image, axis=2)\n",
    "    data_min = np.min(image)\n",
    "    data_max = np.max(image)\n",
    "    b = 0.5\n",
    "    a = -0.5\n",
    "    \n",
    "    image = ((b-a) * (image - data_min)/(data_max - data_min)) + a\n",
    "    return cv2.resize(image, (0,0), fx=0.5, fy=0.5) \n",
    "\n",
    "def flatten(image):\n",
    "    return image.reshape(image.shape[0] * image.shape[1])"
   ]
  },
  {
   "cell_type": "code",
   "execution_count": 191,
   "metadata": {
    "collapsed": false
   },
   "outputs": [],
   "source": [
    "a = driving_log[['center_image', 'steering_angle']]    "
   ]
  },
  {
   "cell_type": "code",
   "execution_count": 194,
   "metadata": {
    "collapsed": false
   },
   "outputs": [
    {
     "name": "stdout",
     "output_type": "stream",
     "text": [
      "/Users/ddigges/simulator/IMG/center_2016_12_16_14_26_11_350.jpg 0.0\n",
      "/Users/ddigges/simulator/IMG/center_2016_12_16_14_26_11_470.jpg 0.0\n",
      "/Users/ddigges/simulator/IMG/center_2016_12_16_14_26_11_578.jpg 0.0\n"
     ]
    }
   ],
   "source": [
    "for i, row in driving_log[:3].iterrows():\n",
    "    print(row['center_image'], row['steering_angle'])"
   ]
  },
  {
   "cell_type": "code",
   "execution_count": 214,
   "metadata": {
    "collapsed": false
   },
   "outputs": [],
   "source": [
    "# shuffle\n",
    "driving_log = driving_log.sample(frac=1).reset_index(drop=True)"
   ]
  },
  {
   "cell_type": "code",
   "execution_count": 122,
   "metadata": {
    "collapsed": false
   },
   "outputs": [
    {
     "data": {
      "text/plain": [
       "(1435, 7)"
      ]
     },
     "execution_count": 122,
     "metadata": {},
     "output_type": "execute_result"
    }
   ],
   "source": [
    "driving_log.shape"
   ]
  },
  {
   "cell_type": "code",
   "execution_count": 195,
   "metadata": {
    "collapsed": false
   },
   "outputs": [],
   "source": [
    "def data_generator(df, batch_size=128):\n",
    "    n_rows = df.shape[0]\n",
    "    while True:\n",
    "        # Shuffle the data frame rows after every complete cycle through the data\n",
    "        df.sample(frac=1).reset_index(drop=True)\n",
    "        for index in range(0, n_rows, batch_size):\n",
    "            df_batch = df[index: index + batch_size]\n",
    "\n",
    "            # Ignoring the last batch which is smaller than the requested batch size\n",
    "            if(df_batch.shape[0] == batch_size):\n",
    "\n",
    "                X_batch = np.array([flatten(pre_process(mpimg.imread(row['center_image']))) for i, row in df_batch.iterrows()])\n",
    "                y_batch = np.array([row['steering_angle'] for i, row in df_batch.iterrows()])\n",
    "\n",
    "                yield X_batch, y_batch\n"
   ]
  },
  {
   "cell_type": "code",
   "execution_count": 196,
   "metadata": {
    "collapsed": false
   },
   "outputs": [],
   "source": [
    "gen = data_generator(driving_log)"
   ]
  },
  {
   "cell_type": "code",
   "execution_count": 198,
   "metadata": {
    "collapsed": false
   },
   "outputs": [],
   "source": [
    "X_batch, y_batch = next(gen)"
   ]
  },
  {
   "cell_type": "code",
   "execution_count": 199,
   "metadata": {
    "collapsed": false
   },
   "outputs": [
    {
     "data": {
      "text/plain": [
       "(128, 12800)"
      ]
     },
     "execution_count": 199,
     "metadata": {},
     "output_type": "execute_result"
    }
   ],
   "source": [
    "X_batch.shape"
   ]
  },
  {
   "cell_type": "code",
   "execution_count": 201,
   "metadata": {
    "collapsed": false
   },
   "outputs": [
    {
     "data": {
      "text/plain": [
       "(128,)"
      ]
     },
     "execution_count": 201,
     "metadata": {},
     "output_type": "execute_result"
    }
   ],
   "source": [
    "y_batch.shape"
   ]
  },
  {
   "cell_type": "code",
   "execution_count": 202,
   "metadata": {
    "collapsed": false
   },
   "outputs": [
    {
     "data": {
      "text/plain": [
       "(array([  2.,   1.,   7.,   3.,   6.,  97.,   4.,   1.,   3.,   4.]),\n",
       " array([-0.672882 , -0.5512089, -0.4295358, -0.3078627, -0.1861896,\n",
       "        -0.0645165,  0.0571566,  0.1788297,  0.3005028,  0.4221759,\n",
       "         0.543849 ]),\n",
       " <a list of 10 Patch objects>)"
      ]
     },
     "execution_count": 202,
     "metadata": {},
     "output_type": "execute_result"
    },
    {
     "data": {
      "image/png": "[encoded data removed]",
      "text/plain": [
       "<matplotlib.figure.Figure at 0x129563828>"
      ]
     },
     "metadata": {},
     "output_type": "display_data"
    }
   ],
   "source": [
    "plt.hist(y_batch)"
   ]
  },
  {
   "cell_type": "code",
   "execution_count": 204,
   "metadata": {
    "collapsed": false
   },
   "outputs": [],
   "source": [
    "hidden_layer_size = 128\n",
    "output_size = 1\n",
    "# image_shape_flat = X_batch[0].shape[0] * X_batch[0].shape[1]"
   ]
  },
  {
   "cell_type": "code",
   "execution_count": 205,
   "metadata": {
    "collapsed": true
   },
   "outputs": [],
   "source": [
    "model = Sequential()"
   ]
  },
  {
   "cell_type": "code",
   "execution_count": 206,
   "metadata": {
    "collapsed": false
   },
   "outputs": [],
   "source": [
    "model.add(Dense(input_dim=image_shape_flat, output_dim=hidden_layer_size))"
   ]
  },
  {
   "cell_type": "code",
   "execution_count": 207,
   "metadata": {
    "collapsed": true
   },
   "outputs": [],
   "source": [
    "model.add(Activation(\"relu\"))"
   ]
  },
  {
   "cell_type": "code",
   "execution_count": 208,
   "metadata": {
    "collapsed": true
   },
   "outputs": [],
   "source": [
    "model.add(Dense(output_dim=output_size))"
   ]
  },
  {
   "cell_type": "code",
   "execution_count": 209,
   "metadata": {
    "collapsed": false
   },
   "outputs": [],
   "source": [
    "model.compile(loss=\"mean_squared_error\", optimizer=\"sgd\", metrics=[\"accuracy\"])"
   ]
  },
  {
   "cell_type": "code",
   "execution_count": 211,
   "metadata": {
    "collapsed": false
   },
   "outputs": [
    {
     "name": "stdout",
     "output_type": "stream",
     "text": [
      "Epoch 1/10\n",
      "4224/4224 [==============================] - 18s - loss: 0.0674 - acc: 0.6972    \n",
      "Epoch 2/10\n",
      "4224/4224 [==============================] - 18s - loss: 0.0347 - acc: 0.7138    \n",
      "Epoch 3/10\n",
      "4224/4224 [==============================] - 18s - loss: 0.0285 - acc: 0.7138    \n",
      "Epoch 4/10\n",
      "4224/4224 [==============================] - 17s - loss: 0.0245 - acc: 0.7138    \n",
      "Epoch 5/10\n",
      "4224/4224 [==============================] - 17s - loss: 0.0215 - acc: 0.7138    \n",
      "Epoch 6/10\n",
      "4224/4224 [==============================] - 17s - loss: 0.0190 - acc: 0.7152    \n",
      "Epoch 7/10\n",
      "4224/4224 [==============================] - 16s - loss: 0.0170 - acc: 0.7159    \n",
      "Epoch 8/10\n",
      "4224/4224 [==============================] - 16s - loss: 0.0154 - acc: 0.7159    \n",
      "Epoch 9/10\n",
      "4224/4224 [==============================] - 17s - loss: 0.0139 - acc: 0.7159    \n",
      "Epoch 10/10\n",
      "4224/4224 [==============================] - 16s - loss: 0.0126 - acc: 0.7161    \n"
     ]
    },
    {
     "data": {
      "text/plain": [
       "<keras.callbacks.History at 0x136ca9240>"
      ]
     },
     "execution_count": 211,
     "metadata": {},
     "output_type": "execute_result"
    }
   ],
   "source": [
    "gen = data_generator(driving_log)\n",
    "\n",
    "model.fit_generator(gen, samples_per_epoch*batch_size, nb_epoch)"
   ]
  },
  {
   "cell_type": "code",
   "execution_count": 223,
   "metadata": {
    "collapsed": false
   },
   "outputs": [
    {
     "ename": "NameError",
     "evalue": "name 'Convolution2D' is not defined",
     "output_type": "error",
     "traceback": [
      "\u001b[0;31m---------------------------------------------------------------------------\u001b[0m",
      "\u001b[0;31mNameError\u001b[0m                                 Traceback (most recent call last)",
      "\u001b[0;32m<ipython-input-223-3206c950ca4d>\u001b[0m in \u001b[0;36m<module>\u001b[0;34m()\u001b[0m\n\u001b[1;32m      1\u001b[0m \u001b[0mmodel\u001b[0m \u001b[0;34m=\u001b[0m \u001b[0mSequential\u001b[0m\u001b[0;34m(\u001b[0m\u001b[0;34m)\u001b[0m\u001b[0;34m\u001b[0m\u001b[0m\n\u001b[1;32m      2\u001b[0m \u001b[0;34m\u001b[0m\u001b[0m\n\u001b[0;32m----> 3\u001b[0;31m \u001b[0mmodel\u001b[0m\u001b[0;34m.\u001b[0m\u001b[0madd\u001b[0m\u001b[0;34m(\u001b[0m\u001b[0mConvolution2D\u001b[0m\u001b[0;34m(\u001b[0m\u001b[0;36m16\u001b[0m\u001b[0;34m,\u001b[0m \u001b[0;36m8\u001b[0m\u001b[0;34m,\u001b[0m \u001b[0;36m8\u001b[0m\u001b[0;34m,\u001b[0m \u001b[0msubsample\u001b[0m\u001b[0;34m=\u001b[0m\u001b[0;34m(\u001b[0m\u001b[0;36m4\u001b[0m\u001b[0;34m,\u001b[0m \u001b[0;36m4\u001b[0m\u001b[0;34m)\u001b[0m\u001b[0;34m,\u001b[0m \u001b[0mborder_mode\u001b[0m\u001b[0;34m=\u001b[0m\u001b[0;34m\"same\"\u001b[0m\u001b[0;34m)\u001b[0m\u001b[0;34m)\u001b[0m\u001b[0;34m\u001b[0m\u001b[0m\n\u001b[0m\u001b[1;32m      4\u001b[0m \u001b[0mmodel\u001b[0m\u001b[0;34m.\u001b[0m\u001b[0madd\u001b[0m\u001b[0;34m(\u001b[0m\u001b[0mELU\u001b[0m\u001b[0;34m(\u001b[0m\u001b[0;34m)\u001b[0m\u001b[0;34m)\u001b[0m\u001b[0;34m\u001b[0m\u001b[0m\n\u001b[1;32m      5\u001b[0m \u001b[0mmodel\u001b[0m\u001b[0;34m.\u001b[0m\u001b[0madd\u001b[0m\u001b[0;34m(\u001b[0m\u001b[0mConvolution2D\u001b[0m\u001b[0;34m(\u001b[0m\u001b[0;36m32\u001b[0m\u001b[0;34m,\u001b[0m \u001b[0;36m5\u001b[0m\u001b[0;34m,\u001b[0m \u001b[0;36m5\u001b[0m\u001b[0;34m,\u001b[0m \u001b[0msubsample\u001b[0m\u001b[0;34m=\u001b[0m\u001b[0;34m(\u001b[0m\u001b[0;36m2\u001b[0m\u001b[0;34m,\u001b[0m \u001b[0;36m2\u001b[0m\u001b[0;34m)\u001b[0m\u001b[0;34m,\u001b[0m \u001b[0mborder_mode\u001b[0m\u001b[0;34m=\u001b[0m\u001b[0;34m\"same\"\u001b[0m\u001b[0;34m)\u001b[0m\u001b[0;34m)\u001b[0m\u001b[0;34m\u001b[0m\u001b[0m\n",
      "\u001b[0;31mNameError\u001b[0m: name 'Convolution2D' is not defined"
     ]
    }
   ],
   "source": [
    "model = Sequential()\n",
    "\n",
    "model.add(Convolution2D(16, 8, 8, subsample=(4, 4), border_mode=\"same\"))\n",
    "model.add(ELU())\n",
    "model.add(Convolution2D(32, 5, 5, subsample=(2, 2), border_mode=\"same\"))\n",
    "model.add(ELU())\n",
    "model.add(Convolution2D(64, 5, 5, subsample=(2, 2), border_mode=\"same\"))\n",
    "model.add(Flatten())\n",
    "model.add(Dropout(.2))\n",
    "model.add(ELU())\n",
    "model.add(Dense(512))\n",
    "model.add(Dropout(.5))\n",
    "model.add(ELU())\n",
    "model.add(Dense(1))\n",
    "\n",
    "model.compile(optimizer=\"adam\", loss=\"mse\")\n"
   ]
  },
  {
   "cell_type": "code",
   "execution_count": 212,
   "metadata": {
    "collapsed": false
   },
   "outputs": [],
   "source": [
    "model.save_weights(\"model.h5\")"
   ]
  },
  {
   "cell_type": "code",
   "execution_count": 213,
   "metadata": {
    "collapsed": false
   },
   "outputs": [],
   "source": [
    "file = open(\"model.json\", \"w\")\n",
    "file.write(model.to_json())\n",
    "file.close()"
   ]
  },
  {
   "cell_type": "code",
   "execution_count": null,
   "metadata": {
    "collapsed": true
   },
   "outputs": [],
   "source": []
  }
 ],
 "metadata": {
  "anaconda-cloud": {},
  "kernelspec": {
   "display_name": "Python [conda root]",
   "language": "python",
   "name": "conda-root-py"
  },
  "language_info": {
   "codemirror_mode": {
    "name": "ipython",
    "version": 3
   },
   "file_extension": ".py",
   "mimetype": "text/x-python",
   "name": "python",
   "nbconvert_exporter": "python",
   "pygments_lexer": "ipython3",
   "version": "3.5.2"
  }
 },
 "nbformat": 4,
 "nbformat_minor": 1
}
