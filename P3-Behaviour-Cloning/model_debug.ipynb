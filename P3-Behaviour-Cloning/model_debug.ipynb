{
 "cells": [
  {
   "cell_type": "code",
   "execution_count": 1,
   "metadata": {
    "collapsed": false
   },
   "outputs": [
    {
     "name": "stderr",
     "output_type": "stream",
     "text": [
      "Using TensorFlow backend.\n"
     ]
    }
   ],
   "source": [
    "import cv2\n",
    "import glob\n",
    "from keras.models import Sequential\n",
    "from keras.layers import Dense, Dropout, Flatten, Lambda, ELU, Activation\n",
    "from keras.layers.convolutional import Convolution2D\n",
    "from keras.layers.normalization import BatchNormalization\n",
    "from keras.optimizers import Adam\n",
    "import matplotlib.image as mpimg\n",
    "import matplotlib.pyplot as plt\n",
    "import numpy as np\n",
    "import os\n",
    "import pandas as pd\n",
    "import random\n",
    "from scipy import ndimage\n",
    "import skimage\n",
    "from utils import pre_process\n",
    "\n",
    "plt.style.use(\"fivethirtyeight\")\n",
    "%matplotlib inline"
   ]
  },
  {
   "cell_type": "code",
   "execution_count": 2,
   "metadata": {
    "collapsed": true
   },
   "outputs": [],
   "source": [
    "SIMULATOR_HOME = \"/Users/ddigges/simulator/data/\"\n",
    "DRIVING_LOG_FILE = \"driving_log.csv\"\n",
    "DRIVING_LOG_FILE_PATH = os.path.join(SIMULATOR_HOME, DRIVING_LOG_FILE)\n",
    "\n",
    "IMAGE_PATH = os.path.join(SIMULATOR_HOME, \"IMG\")\n",
    "\n",
    "steering_offset = 0.25\n",
    "num_channels = 3"
   ]
  },
  {
   "cell_type": "code",
   "execution_count": 3,
   "metadata": {
    "collapsed": false
   },
   "outputs": [],
   "source": [
    "driving_log = pd.read_csv(DRIVING_LOG_FILE_PATH)\n",
    "driving_log.columns = [\"center\", \"left\", \"right\", \"steering\", \"throttle\", \"brake\", \"speed\"]"
   ]
  },
  {
   "cell_type": "code",
   "execution_count": 4,
   "metadata": {
    "collapsed": true
   },
   "outputs": [],
   "source": [
    "def invert(df, drop_zeros=True):\n",
    "    \"\"\"\n",
    "        1. Create a copy of the data frame\n",
    "        2. Reverse each angle by multiplying by -1\n",
    "        3. Append \"INV\" to image path\n",
    "    \"\"\"\n",
    "    inv_df = df.copy()\n",
    "    \n",
    "    if(drop_zeros):\n",
    "        inv_df = inv_df[inv_df.angle != 0]\n",
    "    \n",
    "    inv_df.angle *= -1\n",
    "    inv_df.image += \"INV\"\n",
    "    return inv_df"
   ]
  },
  {
   "cell_type": "code",
   "execution_count": 5,
   "metadata": {
    "collapsed": true
   },
   "outputs": [],
   "source": [
    "def get_copy(df, column, angle_offset=0):\n",
    "    \"\"\"\n",
    "        Return a new data frame from the passed df\n",
    "        where:\n",
    "        1. column: is one of \"left\", \"right\", \"center\"\n",
    "        \n",
    "        The returned df will have column and the angle from the passed df\n",
    "        \n",
    "        If an angle offset is passed, it will be added to all rows in the angle column\n",
    "    \"\"\"\n",
    "    res = df.copy()[[column, \"steering\"]]\n",
    "    res.columns = [\"image\", \"angle\"]\n",
    "    res.angle += angle_offset\n",
    "    return res"
   ]
  },
  {
   "cell_type": "code",
   "execution_count": 6,
   "metadata": {
    "collapsed": false
   },
   "outputs": [],
   "source": [
    "# Construct augmented data set\n",
    "\n",
    "# Center image, angle unchanged\n",
    "center = get_copy(driving_log, \"center\")\n",
    "\n",
    "# Center image, filter zero angles\n",
    "# invert angle, flip image\n",
    "center_inverted = invert(center)\n",
    "\n",
    "# Add random value to each pixel\n",
    "center_add_randn = get_copy(driving_log, \"center\")\n",
    "center_add_randn = center_add_randn[center_add_randn.angle != 0]\n",
    "center_add_randn.image += \"ADD\"\n",
    "\n",
    "# Multiply random value to each image pixel\n",
    "center_mul_randn = get_copy(driving_log, \"center\")\n",
    "center_mul_randn = center_mul_randn[center_mul_randn.angle != 0]\n",
    "center_mul_randn.image += \"MUL\"\n",
    "\n",
    "# Gaussian blur\n",
    "center_blur = get_copy(driving_log, \"center\")\n",
    "center_blur = center_blur[center_blur.angle != 0]\n",
    "center_blur.image += \"BLUR\"\n",
    "\n",
    "# Gaussian Noise\n",
    "center_noise = get_copy(driving_log, \"center\")\n",
    "center_noise = center_noise[center_noise.angle != 0]\n",
    "center_noise.image += \"NOISE\"\n",
    "\n",
    "\n",
    "all_data = pd.concat([center, center_inverted, center_add_randn, center_mul_randn, center_blur, center_noise])"
   ]
  },
  {
   "cell_type": "code",
   "execution_count": 7,
   "metadata": {
    "collapsed": false
   },
   "outputs": [
    {
     "data": {
      "image/png": "[encoded data removed]",
      "text/plain": [
       "<matplotlib.figure.Figure at 0x106ae5eb8>"
      ]
     },
     "metadata": {},
     "output_type": "display_data"
    }
   ],
   "source": [
    "plt.hist(center.angle, bins=100);\n",
    "plt.title(\"Data before Augmenetation\");"
   ]
  },
  {
   "cell_type": "code",
   "execution_count": 8,
   "metadata": {
    "collapsed": false
   },
   "outputs": [
    {
     "data": {
      "image/png": "[encoded data removed]",
      "text/plain": [
       "<matplotlib.figure.Figure at 0x11baa4d30>"
      ]
     },
     "metadata": {},
     "output_type": "display_data"
    }
   ],
   "source": [
    "plt.hist(all_data.angle, bins=100);\n",
    "plt.title(\"Data After Augmenetation\");"
   ]
  },
  {
   "cell_type": "code",
   "execution_count": 9,
   "metadata": {
    "collapsed": true
   },
   "outputs": [],
   "source": [
    "n = all_data.shape[0]\n",
    "batch_size = 128\n",
    "samples_per_epoch = int(n/batch_size)"
   ]
  },
  {
   "cell_type": "code",
   "execution_count": 10,
   "metadata": {
    "collapsed": false
   },
   "outputs": [],
   "source": [
    "def get_flipped_image(image_name):\n",
    "    \"\"\"\n",
    "        image_name: file path of the image\n",
    "        returns image which is flipped about the vertical axis\n",
    "    \"\"\"\n",
    "    image = mpimg.imread(os.path.join(SIMULATOR_HOME, image_name))\n",
    "    image = cv2.flip(image, 1)\n",
    "    return image"
   ]
  },
  {
   "cell_type": "code",
   "execution_count": 11,
   "metadata": {
    "collapsed": true
   },
   "outputs": [],
   "source": [
    "def perform_random_op_on_image(image_name, op):\n",
    "    \"\"\"\n",
    "       image_name: file path of the image\n",
    "       based on the op, the function either adds a random value to each pixel\n",
    "       or multiplies a random value to each pixel of the image\n",
    "    \"\"\"\n",
    "    image = mpimg.imread(os.path.join(SIMULATOR_HOME, image_name))\n",
    "    \n",
    "\n",
    "    if(op == \"ADD\"):\n",
    "        randn = np.array(random.randint(-5, 5), dtype=np.uint8)\n",
    "        image += randn\n",
    "        \n",
    "    elif(op == \"MUL\"):\n",
    "        randn = np.array(random.randint(1, 3), dtype=np.uint8)\n",
    "        image *= randn\n",
    "        \n",
    "    np.clip(image, 0, 255, out=image)\n",
    "    return image"
   ]
  },
  {
   "cell_type": "code",
   "execution_count": 12,
   "metadata": {
    "collapsed": true
   },
   "outputs": [],
   "source": [
    "def get_blurred_image(image_name):\n",
    "    \"\"\"\n",
    "        image_name: file path of the image \n",
    "        Performs a gaussian blur on the image and returns it\n",
    "    \"\"\"\n",
    "    image = mpimg.imread(os.path.join(SIMULATOR_HOME, image_name))\n",
    "    \n",
    "    return ndimage.gaussian_filter(image, sigma=1)"
   ]
  },
  {
   "cell_type": "code",
   "execution_count": 13,
   "metadata": {
    "collapsed": true
   },
   "outputs": [],
   "source": [
    "def get_speckled_image(image_name):\n",
    "    image = mpimg.imread(os.path.join(SIMULATOR_HOME, image_name))\n",
    "    return skimage.util.random_noise(image, mode='gaussian', seed=None, clip=True)"
   ]
  },
  {
   "cell_type": "code",
   "execution_count": 14,
   "metadata": {
    "collapsed": true
   },
   "outputs": [],
   "source": [
    "def get_image(row):\n",
    "    image_name = row[\"image\"].strip()\n",
    "    \n",
    "    if image_name.endswith(\"INV\"):\n",
    "        return get_flipped_image(image_name.replace(\"INV\", \"\"))\n",
    "    \n",
    "    elif image_name.endswith(\"ADD\"):\n",
    "        return perform_random_op_on_image(image_name.replace(\"ADD\", \"\"), \"ADD\")\n",
    "    \n",
    "    elif image_name.endswith(\"MUL\"):\n",
    "        return perform_random_op_on_image(image_name.replace(\"MUL\",\"\"), \"MUL\")\n",
    "    \n",
    "    elif image_name.endswith(\"BLUR\"):\n",
    "        return get_blurred_image(image_name.replace(\"BLUR\", \"\"))\n",
    "    \n",
    "    elif image_name.endswith(\"NOISE\"):\n",
    "        return get_speckled_image(image_name.replace(\"NOISE\", \"\"))\n",
    "    \n",
    "    else:\n",
    "        image = mpimg.imread(os.path.join(SIMULATOR_HOME, image_name))\n",
    "        \n",
    "    return image"
   ]
  },
  {
   "cell_type": "code",
   "execution_count": 15,
   "metadata": {
    "collapsed": true
   },
   "outputs": [],
   "source": [
    "def data_generator(df, batch_size=128):\n",
    "    \"\"\"\n",
    "        yields a pair (X, Y) where X and Y are both numpy arrays of length `batch_size`\n",
    "    \"\"\"\n",
    "    n_rows = df.shape[0]\n",
    "    while True:\n",
    "        # Shuffle the data frame rows after every complete cycle through the data\n",
    "        df = df.sample(frac=1).reset_index(drop=True)\n",
    "        \n",
    "        for index in range(0, n_rows, batch_size):\n",
    "            df_batch = df[index: index + batch_size]\n",
    "\n",
    "            # Ignoring the last batch which is smaller than the requested batch size\n",
    "            if(df_batch.shape[0] == batch_size):\n",
    "                X_batch = np.array([pre_process(get_image(row)) for i, row in df_batch.iterrows()])\n",
    "                y_batch = np.array([row['angle'] for i, row in df_batch.iterrows()])\n",
    "                yield X_batch, y_batch"
   ]
  },
  {
   "cell_type": "code",
   "execution_count": 16,
   "metadata": {
    "collapsed": false
   },
   "outputs": [],
   "source": [
    "gen = data_generator(all_data)\n",
    "X_batch, y_batch = next(gen)"
   ]
  },
  {
   "cell_type": "code",
   "execution_count": 17,
   "metadata": {
    "collapsed": false
   },
   "outputs": [],
   "source": [
    "input_shape = (X_batch.shape[1], X_batch.shape[2], X_batch.shape[3])\n",
    "model = Sequential()\n",
    "model.add(Lambda(lambda x: x/127.5 - 1.,\n",
    "            input_shape=input_shape,\n",
    "            output_shape=input_shape))\n",
    "model.add(Convolution2D(3, 1, 1, border_mode=\"same\"))\n",
    "model.add(Convolution2D(24, 5, 5, subsample=(2, 2), border_mode=\"same\"))\n",
    "model.add(ELU())\n",
    "model.add(Convolution2D(36, 5, 5, subsample=(2, 2), border_mode=\"same\"))\n",
    "model.add(ELU())\n",
    "model.add(Convolution2D(48, 5, 5, subsample=(2, 2), border_mode=\"same\"))\n",
    "model.add(ELU())\n",
    "model.add(Convolution2D(64, 3, 3, subsample=(1, 1), border_mode=\"same\"))\n",
    "model.add(ELU())\n",
    "model.add(Convolution2D(64, 3, 3, subsample=(1, 1), border_mode=\"same\"))\n",
    "model.add(Flatten())\n",
    "model.add(Dropout(.5))\n",
    "model.add(ELU())\n",
    "model.add(Dense(100))\n",
    "model.add(Dropout(.5))\n",
    "model.add(ELU())\n",
    "model.add(Dense(50))\n",
    "model.add(Dropout(.5))\n",
    "model.add(ELU())\n",
    "model.add(Dense(1))"
   ]
  },
  {
   "cell_type": "code",
   "execution_count": 18,
   "metadata": {
    "collapsed": false
   },
   "outputs": [],
   "source": [
    "adam = Adam(lr=0.00001)\n",
    "model.compile(optimizer=adam, loss=\"mse\")"
   ]
  },
  {
   "cell_type": "code",
   "execution_count": 19,
   "metadata": {
    "collapsed": false
   },
   "outputs": [
    {
     "name": "stdout",
     "output_type": "stream",
     "text": [
      "Epoch 1/1\n",
      "26368/26368 [==============================] - 307s - loss: 0.0299   \n"
     ]
    },
    {
     "data": {
      "text/plain": [
       "<keras.callbacks.History at 0x11ba99ba8>"
      ]
     },
     "execution_count": 19,
     "metadata": {},
     "output_type": "execute_result"
    }
   ],
   "source": [
    "model.fit_generator(gen, samples_per_epoch=samples_per_epoch*batch_size, nb_epoch=1)"
   ]
  },
  {
   "cell_type": "code",
   "execution_count": 20,
   "metadata": {
    "collapsed": true
   },
   "outputs": [],
   "source": [
    "model.save_weights(\"model.h5\")\n",
    "file = open(\"model.json\", \"w\")\n",
    "file.write(model.to_json())\n",
    "file.close()"
   ]
  }
 ],
 "metadata": {
  "anaconda-cloud": {},
  "kernelspec": {
   "display_name": "Python [conda root]",
   "language": "python",
   "name": "conda-root-py"
  },
  "language_info": {
   "codemirror_mode": {
    "name": "ipython",
    "version": 3
   },
   "file_extension": ".py",
   "mimetype": "text/x-python",
   "name": "python",
   "nbconvert_exporter": "python",
   "pygments_lexer": "ipython3",
   "version": "3.5.2"
  }
 },
 "nbformat": 4,
 "nbformat_minor": 1
}
